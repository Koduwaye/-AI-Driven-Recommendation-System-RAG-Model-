{
 "cells": [
  {
   "cell_type": "code",
   "execution_count": 11,
   "id": "a4bcff85-a12d-45dc-a181-dcfbbb0e44fa",
   "metadata": {},
   "outputs": [],
   "source": [
    "import pandas as pd\n",
    "from faker import Faker\n",
    "import random\n",
    "import numpy as np\n"
   ]
  },
  {
   "cell_type": "code",
   "execution_count": 13,
   "id": "3a439afb-7515-488d-a378-793302b5fd32",
   "metadata": {},
   "outputs": [],
   "source": [
    "# Initialize Faker\n",
    "fake = Faker()\n"
   ]
  },
  {
   "cell_type": "code",
   "execution_count": 15,
   "id": "f202e507-bbd6-44a3-bf27-111e40eb2324",
   "metadata": {},
   "outputs": [],
   "source": [
    "# Connect to SQLite\n",
    "conn = sqlite3.connect('Faketastytreat.db')\n",
    "cursor = conn.cursor()\n"
   ]
  },
  {
   "cell_type": "code",
   "execution_count": 17,
   "id": "ea336ca1-0288-428c-b6e3-2726d4a5f9eb",
   "metadata": {},
   "outputs": [],
   "source": [
    "# Customer Data (with noise)\n",
    "customers = []\n",
    "for i in range(1000):\n",
    "    email = fake.unique.email()\n",
    "    # Introduce occasional typos in emails\n",
    "    if random.random() < 0.05:\n",
    "        email = email.replace(\"@\", random.choice([\"@\", \"!\", \"#\"]))\n",
    "\n",
    "    customers.append({\n",
    "        'CustomerID': i + 1,\n",
    "        'Name': fake.name(),\n",
    "        'Email': email,\n",
    "        'Address': fake.address() if random.random() > 0.02 else \"\",  # Some missing addresses\n",
    "        'SubscriptionID': random.randint(1, 1000)\n",
    "    })\n"
   ]
  },
  {
   "cell_type": "code",
   "execution_count": 19,
   "id": "291f7b85-e55e-4876-b633-aa6504d21dc1",
   "metadata": {},
   "outputs": [
    {
     "data": {
      "text/plain": [
       "1000"
      ]
     },
     "execution_count": 19,
     "metadata": {},
     "output_type": "execute_result"
    }
   ],
   "source": [
    "# Subscription Data (with noise)\n",
    "subscriptions = []\n",
    "for i in range(1000):\n",
    "    price = round(random.uniform(20.0, 50.0), 2)\n",
    "    if random.random() < 0.05:\n",
    "        price += random.uniform(-5, 10)  # Add unexpected fluctuations\n",
    "\n",
    "    start_date = fake.date_between(start_date='-1y', end_date='today')\n",
    "    if random.random() < 0.03:\n",
    "        start_date = fake.date_between(start_date='-2y', end_date='-1y')  # Incorrect dates\n",
    "\n",
    "    subscriptions.append({\n",
    "        'SubscriptionID': i + 1,\n",
    "        'CustomerID': i + 1,\n",
    "        'PlanType': random.choice(['Basic', 'Premium', 'Family']),\n",
    "        'StartDate': start_date,\n",
    "        'Price': price\n",
    "    })\n",
    "\n",
    "subscription_df = pd.DataFrame(subscriptions)\n",
    "subscription_df.to_sql('Subscription', conn, if_exists='replace', index=False)"
   ]
  },
  {
   "cell_type": "code",
   "execution_count": 21,
   "id": "c30ab137-9185-45c4-b690-531617bd5402",
   "metadata": {},
   "outputs": [
    {
     "data": {
      "text/plain": [
       "1000"
      ]
     },
     "execution_count": 21,
     "metadata": {},
     "output_type": "execute_result"
    }
   ],
   "source": [
    "# Subscription Data (with noise)\n",
    "subscriptions = []\n",
    "for i in range(1000):\n",
    "    price = round(random.uniform(20.0, 50.0), 2)\n",
    "    if random.random() < 0.05:\n",
    "        price += random.uniform(-5, 10)  # Add unexpected fluctuations\n",
    "\n",
    "    start_date = fake.date_between(start_date='-1y', end_date='today')\n",
    "    if random.random() < 0.03:\n",
    "        start_date = fake.date_between(start_date='-2y', end_date='-1y')  # Incorrect dates\n",
    "\n",
    "    subscriptions.append({\n",
    "        'SubscriptionID': i + 1,\n",
    "        'CustomerID': i + 1,\n",
    "        'PlanType': random.choice(['Basic', 'Premium', 'Family']),\n",
    "        'StartDate': start_date,\n",
    "        'Price': price\n",
    "    })\n",
    "\n",
    "subscription_df = pd.DataFrame(subscriptions)\n",
    "subscription_df.to_sql('Subscription', conn, if_exists='replace', index=False)\n"
   ]
  },
  {
   "cell_type": "code",
   "execution_count": 23,
   "id": "aee8d7c2-1399-43ed-a216-543efa3f46b1",
   "metadata": {},
   "outputs": [
    {
     "data": {
      "text/plain": [
       "3000"
      ]
     },
     "execution_count": 23,
     "metadata": {},
     "output_type": "execute_result"
    }
   ],
   "source": [
    "#Order Data (with noise)\n",
    "orders = []\n",
    "for i in range(3000):\n",
    "    total_amount = round(random.uniform(30.0, 100.0), 2)\n",
    "    if random.random() < 0.02:\n",
    "        total_amount *= 3  # Sudden price spikes (bulk orders or errors)\n",
    "\n",
    "    orders.append({\n",
    "        'OrderID': i + 1,\n",
    "        'CustomerID': random.randint(1, 1000),\n",
    "        'TotalAmount': total_amount,\n",
    "        'OrderStatus': random.choice(['Pending', 'Delivered'])\n",
    "    })\n",
    "\n",
    "order_df = pd.DataFrame(orders)\n",
    "order_df.to_sql('Orders', conn, if_exists='replace', index=False)"
   ]
  },
  {
   "cell_type": "code",
   "execution_count": 25,
   "id": "297cc366-ce91-4d31-8111-4265ea785ff6",
   "metadata": {},
   "outputs": [
    {
     "data": {
      "text/plain": [
       "50"
      ]
     },
     "execution_count": 25,
     "metadata": {},
     "output_type": "execute_result"
    }
   ],
   "source": [
    "#Chef Data (with noise)\n",
    "chefs = []\n",
    "for i in range(50):\n",
    "    rating = round(random.uniform(3.5, 5.0), 1)\n",
    "    if random.random() < 0.05:\n",
    "        rating = max(1.5, rating - 2)  # Occasional very low ratings (bad reviews)\n",
    "\n",
    "    chefs.append({\n",
    "        'ChefID': i + 1,\n",
    "        'Name': fake.name(),\n",
    "        'Specialty': random.choice(['West African', 'East African', 'South African', 'African Fusion']),\n",
    "        'Rating': rating\n",
    "    })\n",
    "\n",
    "chef_df = pd.DataFrame(chefs)\n",
    "chef_df.to_sql('Chef', conn, if_exists='replace', index=False)"
   ]
  },
  {
   "cell_type": "code",
   "execution_count": 27,
   "id": "c2ce45bd-9c40-48eb-8600-80028834ca8d",
   "metadata": {},
   "outputs": [
    {
     "data": {
      "text/plain": [
       "200"
      ]
     },
     "execution_count": 27,
     "metadata": {},
     "output_type": "execute_result"
    }
   ],
   "source": [
    "# Menu Data\n",
    "traditional_dishes = [\n",
    "    ('Jollof Rice', 'West African rice dish with tomatoes and spices.'),\n",
    "    ('Egusi Soup', 'Nigerian melon seed soup with vegetables.'),\n",
    "    ('Chapati', 'Flatbread from East Africa.'),\n",
    "    ('Waakye', 'Ghanaian rice and beans dish.'),\n",
    "    ('Nyama Choma', 'Kenyan grilled meat.'),\n",
    "    ('Biryani', 'South Asian spiced rice dish.'),\n",
    "    ('Chow Mein', 'Chinese stir-fried noodles.'),\n",
    "]\n",
    "\n",
    "menus = []\n",
    "for i in range(200):\n",
    "    dish = random.choice(traditional_dishes)\n",
    "    menus.append({\n",
    "        'MenuID': i + 1,\n",
    "        'ChefID': random.randint(1, 50),\n",
    "        'Name': dish[0],\n",
    "        'Description': dish[1],\n",
    "        'Price': round(random.uniform(10.0, 30.0), 2)\n",
    "    })\n",
    "\n",
    "menu_df = pd.DataFrame(menus)\n",
    "menu_df.to_sql('Menu', conn, if_exists='replace', index=False)"
   ]
  },
  {
   "cell_type": "code",
   "execution_count": 29,
   "id": "6906d384-6554-4110-840a-cc3061bed88b",
   "metadata": {},
   "outputs": [
    {
     "data": {
      "text/plain": [
       "3000"
      ]
     },
     "execution_count": 29,
     "metadata": {},
     "output_type": "execute_result"
    }
   ],
   "source": [
    "# Payment Data (with noise)\n",
    "payments = []\n",
    "for i in range(3000):\n",
    "    amount = round(random.uniform(30.0, 100.0), 2)\n",
    "\n",
    "    if random.random() < 0.03:\n",
    "        amount *= 1.5  # Overcharges / double charges\n",
    "\n",
    "    payment_date = fake.date_between(start_date='-1y', end_date='today')\n",
    "    if random.random() < 0.01:\n",
    "        payment_date = fake.date_between(start_date='-2y', end_date='-1y')  # Incorrect date entry\n",
    "\n",
    "    payments.append({\n",
    "        'PaymentID': i + 1,\n",
    "        'CustomerID': random.randint(1, 1000),\n",
    "        'OrderID': random.randint(1, 3000),\n",
    "        'Amount': amount,\n",
    "        'PaymentDate': payment_date\n",
    "    })\n",
    "\n",
    "payment_df = pd.DataFrame(payments)\n",
    "payment_df.to_sql('Payment', conn, if_exists='replace', index=False)"
   ]
  },
  {
   "cell_type": "code",
   "execution_count": 31,
   "id": "46fe1aa0-e81f-43dc-a36a-a43c00974d4b",
   "metadata": {},
   "outputs": [
    {
     "data": {
      "text/plain": [
       "100"
      ]
     },
     "execution_count": 31,
     "metadata": {},
     "output_type": "execute_result"
    }
   ],
   "source": [
    "# Supplier Data\n",
    "suppliers = []\n",
    "for i in range(100):\n",
    "    suppliers.append({\n",
    "        'SupplierID': i + 1,\n",
    "        'Name': fake.company(),\n",
    "        'ChefID': random.randint(1, 50),\n",
    "        'Location': fake.city(),\n",
    "        'ContactInfo': fake.phone_number()\n",
    "    })\n",
    "\n",
    "supplier_df = pd.DataFrame(suppliers)\n",
    "supplier_df.to_sql('Supplier', conn, if_exists='replace', index=False)"
   ]
  },
  {
   "cell_type": "code",
   "execution_count": 33,
   "id": "3d449170-b260-40ec-9563-a6aeec51c220",
   "metadata": {},
   "outputs": [
    {
     "data": {
      "text/plain": [
       "3000"
      ]
     },
     "execution_count": 33,
     "metadata": {},
     "output_type": "execute_result"
    }
   ],
   "source": [
    "#Delivery Data (with noise)\n",
    "deliveries = []\n",
    "for i in range(3000):\n",
    "    delivery_date = fake.date_between(start_date='-1y', end_date='today')\n",
    "\n",
    "    if random.random() < 0.05:\n",
    "        delivery_date = fake.date_between(start_date='-2y', end_date='-1y')  # Wrong year\n",
    "\n",
    "    delivery_status = random.choice(['Pending', 'Delivered'])\n",
    "    if random.random() < 0.03:\n",
    "        delivery_status = 'Delayed'  # Unexpected status\n",
    "\n",
    "    deliveries.append({\n",
    "        'DeliveryID': i + 1,\n",
    "        'OrderID': random.randint(1, 3000),\n",
    "        'DeliveryDate': delivery_date,\n",
    "        'DeliveryStatus': delivery_status\n",
    "    })\n",
    "\n",
    "delivery_df = pd.DataFrame(deliveries)\n",
    "delivery_df.to_sql('Delivery', conn, if_exists='replace', index=False)"
   ]
  },
  {
   "cell_type": "code",
   "execution_count": 35,
   "id": "55a33edd-59e2-4991-9fc2-10880668f137",
   "metadata": {},
   "outputs": [
    {
     "name": "stdout",
     "output_type": "stream",
     "text": [
      "Data generation complete!\n"
     ]
    }
   ],
   "source": [
    "# Commit changes and close connection\n",
    "conn.commit()\n",
    "conn.close()\n",
    "\n",
    "print(\"Data generation complete!\")\n"
   ]
  },
  {
   "cell_type": "code",
   "execution_count": null,
   "id": "6203ab41-557e-496e-9626-e799a7f0f3a1",
   "metadata": {},
   "outputs": [],
   "source": []
  }
 ],
 "metadata": {
  "kernelspec": {
   "display_name": "Python [conda env:base] *",
   "language": "python",
   "name": "conda-base-py"
  },
  "language_info": {
   "codemirror_mode": {
    "name": "ipython",
    "version": 3
   },
   "file_extension": ".py",
   "mimetype": "text/x-python",
   "name": "python",
   "nbconvert_exporter": "python",
   "pygments_lexer": "ipython3",
   "version": "3.12.7"
  }
 },
 "nbformat": 4,
 "nbformat_minor": 5
}
