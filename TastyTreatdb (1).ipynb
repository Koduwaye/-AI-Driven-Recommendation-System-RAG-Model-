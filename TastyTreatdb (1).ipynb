{
  "nbformat": 4,
  "nbformat_minor": 0,
  "metadata": {
    "colab": {
      "provenance": [],
      "toc_visible": true
    },
    "kernelspec": {
      "name": "python3",
      "display_name": "Python 3"
    },
    "language_info": {
      "name": "python"
    }
  },
  "cells": [
    {
      "cell_type": "code",
      "execution_count": 1,
      "metadata": {
        "id": "v-E9fuSEKG9e"
      },
      "outputs": [],
      "source": [
        "import sqlite3\n",
        "\n",
        "# Database file path\n",
        "DATABASE_PATH = 'Tastytreat.db'  # e.g., 'simulated_data.db'"
      ]
    },
    {
      "cell_type": "code",
      "source": [
        "import sqlite3\n",
        "\n",
        "\n",
        "DATABASE_PATH = \"TastyTreat.db\"\n",
        "conn = sqlite3.connect(DATABASE_PATH)\n",
        "cursor = conn.cursor()\n",
        "\n",
        "\n",
        "cursor.execute(\"\"\"\n",
        "CREATE TABLE Chef (\n",
        "    ChefID INTEGER PRIMARY KEY AUTOINCREMENT,\n",
        "    Name TEXT NOT NULL,\n",
        "    Speciality TEXT NOT NULL\n",
        ")\n",
        "\"\"\")\n",
        "\n",
        "\n",
        "cursor.execute(\"\"\"\n",
        "CREATE TABLE Supplier (\n",
        "    SupplierID INTEGER PRIMARY KEY AUTOINCREMENT,\n",
        "    Name TEXT NOT NULL,\n",
        "    ChefID INTEGER,\n",
        "    Location TEXT NOT NULL,\n",
        "    ContactInfo INTEGER,\n",
        "    FOREIGN KEY (ChefID) REFERENCES Chef(ChefID)\n",
        ")\n",
        "\"\"\")\n",
        "\n",
        "\n",
        "cursor.execute(\"\"\"\n",
        "CREATE TABLE Subscription (\n",
        "    SubscriptionID INTEGER PRIMARY KEY AUTOINCREMENT,\n",
        "    PlanType TEXT NOT NULL,\n",
        "    Amount INTEGER NOT NULL,\n",
        "    StartDate DATE NOT NULL\n",
        ")\n",
        "\"\"\")\n",
        "\n",
        "\n",
        "cursor.execute(\"\"\"\n",
        "CREATE TABLE Customer (\n",
        "    CustomerID INTEGER PRIMARY KEY AUTOINCREMENT,\n",
        "    FirstName TEXT NOT NULL,\n",
        "    LastName TEXT NOT NULL,\n",
        "    Address TEXT NOT NULL,\n",
        "    Email TEXT UNIQUE NOT NULL,\n",
        "    SubscriptionID INTEGER,\n",
        "    FOREIGN KEY (SubscriptionID) REFERENCES Subscription(SubscriptionID)\n",
        ")\n",
        "\"\"\")\n",
        "\n",
        "\n",
        "cursor.execute(\"\"\"\n",
        "CREATE TABLE Menu (\n",
        "    MenuID INTEGER PRIMARY KEY AUTOINCREMENT,\n",
        "    Name TEXT NOT NULL,\n",
        "    Description TEXT NOT NULL,\n",
        "    ChefID INTEGER NOT NULL,\n",
        "    FOREIGN KEY (ChefID) REFERENCES Chef(ChefID)\n",
        ")\n",
        "\"\"\")\n",
        "\n",
        "\n",
        "\n",
        "cursor.execute(\"\"\"\n",
        "CREATE TABLE Orders (\n",
        "    OrderID INTEGER PRIMARY KEY AUTOINCREMENT,\n",
        "    CustomerID INTEGER,\n",
        "    ProductID INTEGER,\n",
        "    OrderStatus TEXT NOT NULL,\n",
        "    Price INTEGER NOT NULL,\n",
        "    TotalAmount INTEGER NOT NULL,\n",
        "    FOREIGN KEY (CustomerID) REFERENCES Customer(CustomerID),\n",
        "    FOREIGN KEY (ProductID) REFERENCES Products(ProductID)\n",
        ")\n",
        "\"\"\")\n",
        "\n",
        "\n",
        "cursor.execute(\"\"\"\n",
        "CREATE TABLE Delivery (\n",
        "    DeliveryID INTEGER PRIMARY KEY AUTOINCREMENT,\n",
        "    OrderID INTEGER,\n",
        "    DeliveryStatus TEXT NOT NULL,\n",
        "    DeliveryDate DATE NOT NULL,\n",
        "    FOREIGN KEY (OrderID) REFERENCES Orders(OrderID)\n",
        ")\n",
        "\"\"\")\n",
        "\n",
        "\n",
        "cursor.execute(\"\"\"\n",
        "CREATE TABLE Payment (\n",
        "    PaymentID INTEGER PRIMARY KEY AUTOINCREMENT,\n",
        "    CustomerID INTEGER,\n",
        "    OrderID INTEGER,\n",
        "    PaymentStatus TEXT NOT NULL,\n",
        "    PaymentDate DATE NOT NULL,\n",
        "    Amount INTEGER NOT NULL,\n",
        "    FOREIGN KEY (CustomerID) REFERENCES Customer(CustomerID),\n",
        "    FOREIGN KEY (OrderID) REFERENCES Orders(OrderID)\n",
        ")\n",
        "\"\"\")\n",
        "\n",
        "\n",
        "conn.commit()\n",
        "cursor.close()\n",
        "conn.close()\n",
        "\n",
        "print(\"Tables created successfully!\")\n"
      ],
      "metadata": {
        "colab": {
          "base_uri": "https://localhost:8080/"
        },
        "id": "NNRKvM_yMXRU",
        "outputId": "7544583b-d473-48f3-a1be-2c1488926293"
      },
      "execution_count": 4,
      "outputs": [
        {
          "output_type": "stream",
          "name": "stdout",
          "text": [
            "Tables created successfully!\n"
          ]
        }
      ]
    }
  ]
}